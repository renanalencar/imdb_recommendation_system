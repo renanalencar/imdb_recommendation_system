{
 "cells": [
  {
   "cell_type": "code",
   "execution_count": null,
   "metadata": {},
   "outputs": [],
   "source": [
    "# References:\n",
    "# Exploratory Data Analysis with Pandas Python 2023 - https://youtu.be/xi0vhXFPegw\n",
    "# Introduction to Exploratory Data Analysis - https://www.kaggle.com/code/robikscube/introduction-to-exploratory-data-analysis/notebook"
   ]
  },
  {
   "cell_type": "code",
   "execution_count": null,
   "metadata": {},
   "outputs": [],
   "source": [
    "import pandas as pd\n",
    "import os"
   ]
  },
  {
   "cell_type": "code",
   "execution_count": null,
   "metadata": {},
   "outputs": [],
   "source": [
    "os.chdir('./data/raw')\n",
    "data = pd.read_json('movies.json')"
   ]
  },
  {
   "cell_type": "code",
   "execution_count": null,
   "metadata": {},
   "outputs": [],
   "source": [
    "data.head() # first 5 rows"
   ]
  },
  {
   "cell_type": "code",
   "execution_count": null,
   "metadata": {},
   "outputs": [],
   "source": [
    "data.tail() # last 5 rows"
   ]
  },
  {
   "cell_type": "code",
   "execution_count": null,
   "metadata": {},
   "outputs": [],
   "source": [
    "data.info() # data types and non-null counts"
   ]
  },
  {
   "cell_type": "code",
   "execution_count": null,
   "metadata": {},
   "outputs": [],
   "source": [
    "# accessing data frame columns\n",
    "data[0:2] # first 2 rows\n",
    "data[:4] # first 4 rows hiding left index\n",
    "data['rating'] # column 'rating'\n",
    "data[['runtime', 'rating']] # columns 'runtime' and 'rating'\n",
    "data.iloc[0:4, 1:4] # first 4 rows and columns 1 to 3\n",
    "data.loc[0:4, ['runtime', 'rating']] # first 4 rows and columns 'runtime' and 'rating'\n",
    "data[data.runtime > 120] # rows where runtime is greater than 120 minutes\n",
    "data[(data.runtime > 120) & (data.rating > 6.0)] # rows where runtime is greater than 120 minutes and rating is greater than 6.0"
   ]
  },
  {
   "cell_type": "code",
   "execution_count": null,
   "metadata": {},
   "outputs": [],
   "source": [
    "# Classifying\n",
    "data.sort_values('rating', ascending=False) # sort by rating"
   ]
  },
  {
   "cell_type": "code",
   "execution_count": null,
   "metadata": {},
   "outputs": [],
   "source": [
    "# Descripive statistics\n",
    "data.describe() # summary statistics"
   ]
  },
  {
   "cell_type": "code",
   "execution_count": null,
   "metadata": {},
   "outputs": [],
   "source": [
    "data['rating'].mean() # mean of column 'rating'\n",
    "data['rating'].median() # median of column 'rating'\n",
    "data['rating'].mode() # mode of column 'rating'\n",
    "data['rating'].std() # standard deviation of column 'rating'\n",
    "data['rating'].var() # variance of column 'rating'\n",
    "\n",
    "data['rating'].describe() # summary statistics of column 'rating'"
   ]
  },
  {
   "cell_type": "code",
   "execution_count": null,
   "metadata": {},
   "outputs": [],
   "source": [
    "# Frequency Tables\n",
    "data['certificate'].value_counts() # absolute frequency table of column 'certificate'\n",
    "(data['certificate'].value_counts() / data['certificate'].count()) * 100 # relative frequency table of column 'certificate'"
   ]
  },
  {
   "cell_type": "code",
   "execution_count": null,
   "metadata": {},
   "outputs": [],
   "source": [
    "# Cross Tabulation\n",
    "pd.crosstab(data['certificate'], data['genre']) # cross tabulation of columns 'certificate' and 'genre'"
   ]
  },
  {
   "cell_type": "code",
   "execution_count": null,
   "metadata": {},
   "outputs": [],
   "source": [
    "# Correlation\n",
    "data.corr() # correlation matrix"
   ]
  }
 ],
 "metadata": {
  "language_info": {
   "name": "python"
  },
  "orig_nbformat": 4
 },
 "nbformat": 4,
 "nbformat_minor": 2
}
